{
 "cells": [
  {
   "cell_type": "code",
   "execution_count": 7,
   "metadata": {},
   "outputs": [],
   "source": [
    "from src import OpenAI_MasterClass, Pinecone_Index, postprocess_retrieval_data\n",
    "import joblib\n",
    "from config.config import RAG_INDEX"
   ]
  },
  {
   "cell_type": "code",
   "execution_count": 8,
   "metadata": {},
   "outputs": [],
   "source": [
    "# Create instances of OpenAI_MasterClass, Pinecone_Index\n",
    "openai_client = OpenAI_MasterClass()\n",
    "pinecone_client = Pinecone_Index()"
   ]
  },
  {
   "cell_type": "code",
   "execution_count": 9,
   "metadata": {},
   "outputs": [],
   "source": [
    "# get input text & convert it to embeddings using text-ada-002\n",
    "input_text = \"transportation law\"\n",
    "embeddings_vector = openai_client.create_embeddings(text = input_text)"
   ]
  },
  {
   "cell_type": "code",
   "execution_count": 11,
   "metadata": {},
   "outputs": [],
   "source": [
    "# search for similar text in VectorDB in Pinecone\n",
    "index_name = RAG_INDEX\n",
    "retrieved_data = pinecone_client.retrieve_data_from_vectorDB(vector=embeddings_vector, index_name= index_name)"
   ]
  },
  {
   "cell_type": "code",
   "execution_count": 12,
   "metadata": {},
   "outputs": [
    {
     "name": "stdout",
     "output_type": "stream",
     "text": [
      "retrieved_data:  {'matches': [{'id': '78',\n",
      "              'metadata': {'text': 'The Motor Vehicles (Amendment) Act, 2019 '\n",
      "                                   'has substantial implications for road '\n",
      "                                   'safety. It increases penalties for traffic '\n",
      "                                   'violations, introduces provisions for '\n",
      "                                   'electronic enforcement, and provides for a '\n",
      "                                   'Motor Vehicle Accident Fund. It also '\n",
      "                                   'mandates the central government to '\n",
      "                                   'regulate taxi aggregators and establishes '\n",
      "                                   'a National Road Safety Board. This Act is '\n",
      "                                   'expected to enhance compliance with '\n",
      "                                   'traffic rules and reduce road accidents.'},\n",
      "              'score': 0.806469858,\n",
      "              'values': []},\n",
      "             {'id': '8',\n",
      "              'metadata': {'text': 'The Motor Vehicles (Amendment) Act 2019 '\n",
      "                                   'introduces stricter penalties for traffic '\n",
      "                                   'offenses, improving road safety. It '\n",
      "                                   'establishes a Motor Vehicle Accident Fund '\n",
      "                                   'and mandates insurance. However, it also '\n",
      "                                   'raises concerns about state autonomy, as '\n",
      "                                   'it encroaches upon their legislative '\n",
      "                                   'purview.'},\n",
      "              'score': 0.800071239,\n",
      "              'values': []}],\n",
      " 'namespace': '',\n",
      " 'usage': {'read_units': 6}}\n",
      "Postprocessed RAG The Motor Vehicles (Amendment) Act, 2019 has substantial implications for road safety. It increases penalties for traffic violations, introduces provisions for electronic enforcement, and provides for a Motor Vehicle Accident Fund. It also mandates the central government to regulate taxi aggregators and establishes a National Road Safety Board. This Act is expected to enhance compliance with traffic rules and reduce road accidents.The Motor Vehicles (Amendment) Act 2019 introduces stricter penalties for traffic offenses, improving road safety. It establishes a Motor Vehicle Accident Fund and mandates insurance. However, it also raises concerns about state autonomy, as it encroaches upon their legislative purview.\n"
     ]
    }
   ],
   "source": [
    "print(\"retrieved_data: \", retrieved_data)\n",
    "# retrieved_data after post processing\n",
    "rag = postprocess_retrieval_data(retrieved_data)\n",
    "print(\"Postprocessed RAG\", rag)"
   ]
  },
  {
   "cell_type": "code",
   "execution_count": 13,
   "metadata": {},
   "outputs": [
    {
     "name": "stdout",
     "output_type": "stream",
     "text": [
      "The Motor Vehicles (Amendment) Act, 2019 indeed has significant implications for road safety and transportation laws in India. It introduces stricter penalties for traffic offenses, which is aimed at improving road safety and encouraging compliance with traffic rules. Additionally, the establishment of the Motor Vehicle Accident Fund and the mandate for insurance are measures aimed at providing better support for accident victims and ensuring financial coverage.\n",
      "\n",
      "However, it's important to note that the Act has raised concerns about encroachment upon state autonomy, as some provisions may impact the legislative purview of individual states. These concerns highlight the need for balanced implementation and coordination between the central and state governments to ensure effective enforcement of the Act without infringing upon state rights.\n",
      "\n",
      "Overall, the Act represents a significant step towards enhancing road safety and transportation regulations in India, but it also requires careful consideration of the balance between central regulations and state autonomy.\n"
     ]
    }
   ],
   "source": [
    "# Get output from ChatGPT assisted with RAG\n",
    "print(openai_client.RAG_based_output_from_ChatGPT(user_prompt = input_text, rag_context = rag))"
   ]
  }
 ],
 "metadata": {
  "kernelspec": {
   "display_name": "venv_rag01",
   "language": "python",
   "name": "python3"
  },
  "language_info": {
   "codemirror_mode": {
    "name": "ipython",
    "version": 3
   },
   "file_extension": ".py",
   "mimetype": "text/x-python",
   "name": "python",
   "nbconvert_exporter": "python",
   "pygments_lexer": "ipython3",
   "version": "3.10.8"
  }
 },
 "nbformat": 4,
 "nbformat_minor": 2
}
