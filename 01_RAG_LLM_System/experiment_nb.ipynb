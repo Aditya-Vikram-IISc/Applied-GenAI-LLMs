{
 "cells": [
  {
   "cell_type": "code",
   "execution_count": 1,
   "metadata": {},
   "outputs": [
    {
     "name": "stderr",
     "output_type": "stream",
     "text": [
      "c:\\Users\\adity\\Desktop\\Projects\\Applied-GenAI-LLMs\\01_RAG_LLM_System\\venv_rag01\\lib\\site-packages\\pinecone\\data\\index.py:1: TqdmWarning: IProgress not found. Please update jupyter and ipywidgets. See https://ipywidgets.readthedocs.io/en/stable/user_install.html\n",
      "  from tqdm.autonotebook import tqdm\n"
     ]
    }
   ],
   "source": [
    "from src import OpenAI_MasterClass, Pinecone_Index\n",
    "import joblib"
   ]
  },
  {
   "cell_type": "code",
   "execution_count": 2,
   "metadata": {},
   "outputs": [],
   "source": [
    "# get input text \n",
    "input_text = \"transportation law\"\n",
    "\n",
    "\n",
    "# create embeddings using OpenAI text-ada-002 model\n",
    "openai_client = OpenAI_MasterClass()\n",
    "embeddings_vector = openai_client.create_embeddings(text = input_text)"
   ]
  },
  {
   "cell_type": "code",
   "execution_count": 9,
   "metadata": {},
   "outputs": [],
   "source": [
    "# search for similar text in VectorDB in Pinecone\n",
    "\n",
    "pc = Pinecone_Index()\n",
    "retrieved_data = pc.retrieve_data_from_vectorDB(vector=embeddings_vector, index_name= \"rag2\")"
   ]
  },
  {
   "cell_type": "code",
   "execution_count": 10,
   "metadata": {},
   "outputs": [
    {
     "data": {
      "text/plain": [
       "{'matches': [{'id': '78',\n",
       "              'metadata': {'text': 'The Motor Vehicles (Amendment) Act, 2019 '\n",
       "                                   'has substantial implications for road '\n",
       "                                   'safety. It increases penalties for traffic '\n",
       "                                   'violations, introduces provisions for '\n",
       "                                   'electronic enforcement, and provides for a '\n",
       "                                   'Motor Vehicle Accident Fund. It also '\n",
       "                                   'mandates the central government to '\n",
       "                                   'regulate taxi aggregators and establishes '\n",
       "                                   'a National Road Safety Board. This Act is '\n",
       "                                   'expected to enhance compliance with '\n",
       "                                   'traffic rules and reduce road accidents.'},\n",
       "              'score': 0.806469858,\n",
       "              'values': []},\n",
       "             {'id': '8',\n",
       "              'metadata': {'text': 'The Motor Vehicles (Amendment) Act 2019 '\n",
       "                                   'introduces stricter penalties for traffic '\n",
       "                                   'offenses, improving road safety. It '\n",
       "                                   'establishes a Motor Vehicle Accident Fund '\n",
       "                                   'and mandates insurance. However, it also '\n",
       "                                   'raises concerns about state autonomy, as '\n",
       "                                   'it encroaches upon their legislative '\n",
       "                                   'purview.'},\n",
       "              'score': 0.800071239,\n",
       "              'values': []}],\n",
       " 'namespace': '',\n",
       " 'usage': {'read_units': 6}}"
      ]
     },
     "execution_count": 10,
     "metadata": {},
     "output_type": "execute_result"
    }
   ],
   "source": [
    "retrieved_data"
   ]
  },
  {
   "cell_type": "code",
   "execution_count": 12,
   "metadata": {},
   "outputs": [],
   "source": [
    "text = \"\"\n",
    "for x in retrieved_data[\"matches\"]:\n",
    "    if x[\"score\"] <= 0.8:\n",
    "        continue\n",
    "    text += x[\"metadata\"][\"text\"]"
   ]
  },
  {
   "cell_type": "code",
   "execution_count": 13,
   "metadata": {},
   "outputs": [
    {
     "data": {
      "text/plain": [
       "'The Motor Vehicles (Amendment) Act, 2019 has substantial implications for road safety. It increases penalties for traffic violations, introduces provisions for electronic enforcement, and provides for a Motor Vehicle Accident Fund. It also mandates the central government to regulate taxi aggregators and establishes a National Road Safety Board. This Act is expected to enhance compliance with traffic rules and reduce road accidents.The Motor Vehicles (Amendment) Act 2019 introduces stricter penalties for traffic offenses, improving road safety. It establishes a Motor Vehicle Accident Fund and mandates insurance. However, it also raises concerns about state autonomy, as it encroaches upon their legislative purview.'"
      ]
     },
     "execution_count": 13,
     "metadata": {},
     "output_type": "execute_result"
    }
   ],
   "source": [
    "text"
   ]
  },
  {
   "cell_type": "code",
   "execution_count": null,
   "metadata": {},
   "outputs": [],
   "source": []
  }
 ],
 "metadata": {
  "kernelspec": {
   "display_name": "venv_rag01",
   "language": "python",
   "name": "python3"
  },
  "language_info": {
   "codemirror_mode": {
    "name": "ipython",
    "version": 3
   },
   "file_extension": ".py",
   "mimetype": "text/x-python",
   "name": "python",
   "nbconvert_exporter": "python",
   "pygments_lexer": "ipython3",
   "version": "3.10.8"
  }
 },
 "nbformat": 4,
 "nbformat_minor": 2
}
